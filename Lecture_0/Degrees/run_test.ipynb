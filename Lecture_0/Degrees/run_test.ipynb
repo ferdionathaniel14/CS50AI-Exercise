{
 "cells": [
  {
   "cell_type": "code",
   "execution_count": 26,
   "id": "64c4aa82",
   "metadata": {},
   "outputs": [],
   "source": [
    "import pandas as pd\n",
    "import numpy as np\n",
    "import os"
   ]
  },
  {
   "cell_type": "code",
   "execution_count": 27,
   "id": "e49c90c7",
   "metadata": {},
   "outputs": [
    {
     "data": {
      "text/plain": [
       "'C:\\\\Users\\\\User\\\\OneDrive\\\\Desktop\\\\CS50AI\\\\degrees'"
      ]
     },
     "execution_count": 27,
     "metadata": {},
     "output_type": "execute_result"
    }
   ],
   "source": [
    "os.getcwd()"
   ]
  },
  {
   "cell_type": "markdown",
   "id": "93a49507",
   "metadata": {},
   "source": [
    "# Dataset Check"
   ]
  },
  {
   "cell_type": "code",
   "execution_count": 216,
   "id": "371e0ded",
   "metadata": {},
   "outputs": [],
   "source": [
    "df_movies = pd.read_csv('.\\large\\movies.csv')\n",
    "df_people = pd.read_csv(\".\\large\\people.csv\")\n",
    "df_stars = pd.read_csv(\".\\large\\stars.csv\")"
   ]
  },
  {
   "cell_type": "code",
   "execution_count": 267,
   "id": "a615e8cf",
   "metadata": {},
   "outputs": [
    {
     "data": {
      "text/html": [
       "<div>\n",
       "<style scoped>\n",
       "    .dataframe tbody tr th:only-of-type {\n",
       "        vertical-align: middle;\n",
       "    }\n",
       "\n",
       "    .dataframe tbody tr th {\n",
       "        vertical-align: top;\n",
       "    }\n",
       "\n",
       "    .dataframe thead th {\n",
       "        text-align: right;\n",
       "    }\n",
       "</style>\n",
       "<table border=\"1\" class=\"dataframe\">\n",
       "  <thead>\n",
       "    <tr style=\"text-align: right;\">\n",
       "      <th></th>\n",
       "      <th>id</th>\n",
       "      <th>title</th>\n",
       "      <th>year</th>\n",
       "    </tr>\n",
       "  </thead>\n",
       "  <tbody>\n",
       "    <tr>\n",
       "      <th>0</th>\n",
       "      <td>15724</td>\n",
       "      <td>Dama de noche</td>\n",
       "      <td>1993</td>\n",
       "    </tr>\n",
       "    <tr>\n",
       "      <th>1</th>\n",
       "      <td>23331</td>\n",
       "      <td>Pesn o geroyakh</td>\n",
       "      <td>1983</td>\n",
       "    </tr>\n",
       "    <tr>\n",
       "      <th>2</th>\n",
       "      <td>31458</td>\n",
       "      <td>El huésped del sevillano</td>\n",
       "      <td>1970</td>\n",
       "    </tr>\n",
       "    <tr>\n",
       "      <th>3</th>\n",
       "      <td>35423</td>\n",
       "      <td>Kate &amp; Leopold</td>\n",
       "      <td>2001</td>\n",
       "    </tr>\n",
       "    <tr>\n",
       "      <th>4</th>\n",
       "      <td>36606</td>\n",
       "      <td>Another Time, Another Place</td>\n",
       "      <td>1983</td>\n",
       "    </tr>\n",
       "  </tbody>\n",
       "</table>\n",
       "</div>"
      ],
      "text/plain": [
       "      id                        title  year\n",
       "0  15724                Dama de noche  1993\n",
       "1  23331              Pesn o geroyakh  1983\n",
       "2  31458     El huésped del sevillano  1970\n",
       "3  35423               Kate & Leopold  2001\n",
       "4  36606  Another Time, Another Place  1983"
      ]
     },
     "execution_count": 267,
     "metadata": {},
     "output_type": "execute_result"
    }
   ],
   "source": [
    "df_movies.head()"
   ]
  },
  {
   "cell_type": "code",
   "execution_count": 266,
   "id": "f72da333",
   "metadata": {},
   "outputs": [
    {
     "data": {
      "text/html": [
       "<div>\n",
       "<style scoped>\n",
       "    .dataframe tbody tr th:only-of-type {\n",
       "        vertical-align: middle;\n",
       "    }\n",
       "\n",
       "    .dataframe tbody tr th {\n",
       "        vertical-align: top;\n",
       "    }\n",
       "\n",
       "    .dataframe thead th {\n",
       "        text-align: right;\n",
       "    }\n",
       "</style>\n",
       "<table border=\"1\" class=\"dataframe\">\n",
       "  <thead>\n",
       "    <tr style=\"text-align: right;\">\n",
       "      <th></th>\n",
       "      <th>id</th>\n",
       "      <th>name</th>\n",
       "      <th>birth</th>\n",
       "    </tr>\n",
       "  </thead>\n",
       "  <tbody>\n",
       "    <tr>\n",
       "      <th>0</th>\n",
       "      <td>1</td>\n",
       "      <td>Fred Astaire</td>\n",
       "      <td>1899.0</td>\n",
       "    </tr>\n",
       "    <tr>\n",
       "      <th>1</th>\n",
       "      <td>2</td>\n",
       "      <td>Lauren Bacall</td>\n",
       "      <td>1924.0</td>\n",
       "    </tr>\n",
       "    <tr>\n",
       "      <th>2</th>\n",
       "      <td>3</td>\n",
       "      <td>Brigitte Bardot</td>\n",
       "      <td>1934.0</td>\n",
       "    </tr>\n",
       "    <tr>\n",
       "      <th>3</th>\n",
       "      <td>4</td>\n",
       "      <td>John Belushi</td>\n",
       "      <td>1949.0</td>\n",
       "    </tr>\n",
       "    <tr>\n",
       "      <th>4</th>\n",
       "      <td>5</td>\n",
       "      <td>Ingmar Bergman</td>\n",
       "      <td>1918.0</td>\n",
       "    </tr>\n",
       "  </tbody>\n",
       "</table>\n",
       "</div>"
      ],
      "text/plain": [
       "   id             name   birth\n",
       "0   1     Fred Astaire  1899.0\n",
       "1   2    Lauren Bacall  1924.0\n",
       "2   3  Brigitte Bardot  1934.0\n",
       "3   4     John Belushi  1949.0\n",
       "4   5   Ingmar Bergman  1918.0"
      ]
     },
     "execution_count": 266,
     "metadata": {},
     "output_type": "execute_result"
    }
   ],
   "source": [
    "df_people.head()"
   ]
  },
  {
   "cell_type": "code",
   "execution_count": 268,
   "id": "b97b857d",
   "metadata": {},
   "outputs": [
    {
     "data": {
      "text/html": [
       "<div>\n",
       "<style scoped>\n",
       "    .dataframe tbody tr th:only-of-type {\n",
       "        vertical-align: middle;\n",
       "    }\n",
       "\n",
       "    .dataframe tbody tr th {\n",
       "        vertical-align: top;\n",
       "    }\n",
       "\n",
       "    .dataframe thead th {\n",
       "        text-align: right;\n",
       "    }\n",
       "</style>\n",
       "<table border=\"1\" class=\"dataframe\">\n",
       "  <thead>\n",
       "    <tr style=\"text-align: right;\">\n",
       "      <th></th>\n",
       "      <th>person_id</th>\n",
       "      <th>movie_id</th>\n",
       "    </tr>\n",
       "  </thead>\n",
       "  <tbody>\n",
       "    <tr>\n",
       "      <th>0</th>\n",
       "      <td>844752</td>\n",
       "      <td>15724</td>\n",
       "    </tr>\n",
       "    <tr>\n",
       "      <th>1</th>\n",
       "      <td>869732</td>\n",
       "      <td>15724</td>\n",
       "    </tr>\n",
       "    <tr>\n",
       "      <th>2</th>\n",
       "      <td>194720</td>\n",
       "      <td>15724</td>\n",
       "    </tr>\n",
       "    <tr>\n",
       "      <th>3</th>\n",
       "      <td>650495</td>\n",
       "      <td>15724</td>\n",
       "    </tr>\n",
       "    <tr>\n",
       "      <th>4</th>\n",
       "      <td>8738</td>\n",
       "      <td>31458</td>\n",
       "    </tr>\n",
       "  </tbody>\n",
       "</table>\n",
       "</div>"
      ],
      "text/plain": [
       "   person_id  movie_id\n",
       "0     844752     15724\n",
       "1     869732     15724\n",
       "2     194720     15724\n",
       "3     650495     15724\n",
       "4       8738     31458"
      ]
     },
     "execution_count": 268,
     "metadata": {},
     "output_type": "execute_result"
    }
   ],
   "source": [
    "df_stars.head()"
   ]
  },
  {
   "cell_type": "markdown",
   "id": "89a3ab44",
   "metadata": {},
   "source": [
    "# Function Check"
   ]
  },
  {
   "cell_type": "code",
   "execution_count": 241,
   "id": "f8a98f43",
   "metadata": {},
   "outputs": [],
   "source": [
    "names  = {}\n",
    "people = {}\n",
    "movies = {}\n",
    "\n",
    "# specify directory small/large\n",
    "directory = \".\\large\"\n"
   ]
  },
  {
   "cell_type": "code",
   "execution_count": 242,
   "id": "4dcafbea",
   "metadata": {},
   "outputs": [],
   "source": [
    "def load_data(directory):\n",
    "    \"\"\"\n",
    "    Load data from CSV files into memory.\n",
    "    \"\"\"\n",
    "    # Load people\n",
    "    with open(f\"{directory}\\people.csv\", encoding=\"utf-8\") as f:\n",
    "        reader = csv.DictReader(f)\n",
    "        for row in reader:\n",
    "            people[row[\"id\"]] = {\n",
    "                \"name\": row[\"name\"],\n",
    "                \"birth\": row[\"birth\"],\n",
    "                \"movies\": set()\n",
    "            }\n",
    "            if row[\"name\"].lower() not in names:\n",
    "                names[row[\"name\"].lower()] = {row[\"id\"]}\n",
    "            else:\n",
    "                names[row[\"name\"].lower()].add(row[\"id\"])\n",
    "\n",
    "    # Load movies\n",
    "    with open(f\"{directory}\\movies.csv\", encoding=\"utf-8\") as f:\n",
    "        reader = csv.DictReader(f)\n",
    "        for row in reader:\n",
    "            movies[row[\"id\"]] = {\n",
    "                \"title\": row[\"title\"],\n",
    "                \"year\": row[\"year\"],\n",
    "                \"stars\": set()\n",
    "            }\n",
    "\n",
    "    # Load stars\n",
    "    with open(f\"{directory}\\stars.csv\", encoding=\"utf-8\") as f:\n",
    "        reader = csv.DictReader(f)\n",
    "        for row in reader:\n",
    "            try:\n",
    "                people[row[\"person_id\"]][\"movies\"].add(row[\"movie_id\"])\n",
    "                movies[row[\"movie_id\"]][\"stars\"].add(row[\"person_id\"])\n",
    "            except KeyError:\n",
    "                pass\n",
    "\n",
    "load_data(directory)"
   ]
  },
  {
   "cell_type": "code",
   "execution_count": 243,
   "id": "1e08937b",
   "metadata": {},
   "outputs": [],
   "source": [
    "def person_id_for_name(name):\n",
    "    \"\"\"\n",
    "    Returns the IMDB id for a person's name,\n",
    "    resolving ambiguities as needed.\n",
    "    \"\"\"\n",
    "    person_ids = list(names.get(name.lower(), set()))\n",
    "    if len(person_ids) == 0:\n",
    "        return None\n",
    "    elif len(person_ids) > 1:\n",
    "        print(f\"Which '{name}'?\")\n",
    "        for person_id in person_ids:\n",
    "            person = people[person_id]\n",
    "            name = person[\"name\"]\n",
    "            birth = person[\"birth\"]\n",
    "            print(f\"ID: {person_id}, Name: {name}, Birth: {birth}\")\n",
    "        try:\n",
    "            person_id = input(\"Intended Person ID: \")\n",
    "            if person_id in person_ids:\n",
    "                return person_id\n",
    "        except ValueError:\n",
    "            pass\n",
    "        return None\n",
    "    else:\n",
    "        return person_ids[0]"
   ]
  },
  {
   "cell_type": "code",
   "execution_count": 244,
   "id": "a53fbbfa",
   "metadata": {},
   "outputs": [],
   "source": [
    "def neighbors_for_person(person_id):\n",
    "    \"\"\"\n",
    "    Returns (movie_id, person_id) pairs for people\n",
    "    who starred with a given person.\n",
    "    \"\"\"\n",
    "    movie_ids = people[person_id][\"movies\"]\n",
    "    neighbors = set()\n",
    "    for movie_id in movie_ids:\n",
    "        for person_id in movies[movie_id][\"stars\"]:\n",
    "            neighbors.add((movie_id, person_id))\n",
    "    return neighbors"
   ]
  },
  {
   "cell_type": "code",
   "execution_count": 245,
   "id": "8af27eee",
   "metadata": {},
   "outputs": [],
   "source": [
    "class Node():\n",
    "    def __init__(self, state, parent, action):\n",
    "        self.state = state\n",
    "        self.parent = parent\n",
    "        self.action = action\n",
    "\n",
    "\n",
    "class StackFrontier():\n",
    "    def __init__(self):\n",
    "        self.frontier = []\n",
    "\n",
    "    def add(self, node):\n",
    "        self.frontier.append(node)\n",
    "\n",
    "    def contains_state(self, state):\n",
    "        return any(node.state == state for node in self.frontier)\n",
    "\n",
    "    def empty(self):\n",
    "        return len(self.frontier) == 0\n",
    "\n",
    "    def remove(self):\n",
    "        if self.empty():\n",
    "            raise Exception(\"empty frontier\")\n",
    "        else:\n",
    "            node = self.frontier[-1]\n",
    "            self.frontier = self.frontier[:-1]\n",
    "            return node\n",
    "\n",
    "\n",
    "class QueueFrontier(StackFrontier):\n",
    "\n",
    "    def remove(self):\n",
    "        if self.empty():\n",
    "            raise Exception(\"empty frontier\")\n",
    "        else:\n",
    "            node = self.frontier[0]\n",
    "            self.frontier = self.frontier[1:]\n",
    "            return node\n"
   ]
  },
  {
   "cell_type": "code",
   "execution_count": 270,
   "id": "e15fc1ba",
   "metadata": {},
   "outputs": [
    {
     "name": "stdout",
     "output_type": "stream",
     "text": [
      "Name: Kevin Bacon\n",
      "Which 'Kevin Bacon'?\n",
      "ID: 9323132, Name: Kevin Bacon, Birth: \n",
      "ID: 102, Name: Kevin Bacon, Birth: 1958\n",
      "Intended Person ID: 102\n",
      "Name: Tom Hanks\n"
     ]
    }
   ],
   "source": [
    "source = person_id_for_name(input(\"Name: \"))\n",
    "if source is None:\n",
    "    print(\"Person not found.\")\n",
    "target = person_id_for_name(input(\"Name: \"))\n",
    "if target is None:\n",
    "    print(\"Person not found.\")"
   ]
  },
  {
   "cell_type": "code",
   "execution_count": null,
   "id": "52b72e5b",
   "metadata": {},
   "outputs": [
    {
     "name": "stdout",
     "output_type": "stream",
     "text": [
      "[('112384', '158')]\n"
     ]
    }
   ],
   "source": [
    "num_explored = 0\n",
    "start = Node(state = source, parent = None, action = None)\n",
    "frontier = QueueFrontier()\n",
    "frontier.add(start)\n",
    "\n",
    "explored = set()\n",
    "while True:\n",
    "    if frontier.empty():\n",
    "        print(\"There is no solution\")\n",
    "        \n",
    "    node = frontier.remove()\n",
    "    num_explored += 1\n",
    "    \n",
    "    if node.state == target:\n",
    "        sol_list = []\n",
    "        while node.parent is not None:\n",
    "            sol_list.append((node.action,node.state))\n",
    "            node = node.parent\n",
    "        sol_list.reverse()\n",
    "        print(sol_list)\n",
    "\n",
    "    explored.add(node.state)\n",
    "    \n",
    "    for action, state in neighbors_for_person(node.state):\n",
    "        if not frontier.contains_state(state) and state not in explored:\n",
    "            child = Node(state=state, parent=node, action=action)\n",
    "            frontier.add(child)"
   ]
  },
  {
   "cell_type": "code",
   "execution_count": 258,
   "id": "33e3a4f5",
   "metadata": {},
   "outputs": [
    {
     "name": "stdout",
     "output_type": "stream",
     "text": [
      "Loading data...\n",
      "Data loaded.\n",
      "Name: Tom Hanks\n",
      "Name: Valeria Golino\n",
      "2 degrees of separation.\n",
      "1: Tom Hanks and David Morse starred in The Green Mile\n",
      "2: David Morse and Valeria Golino starred in The Indian Runner\n"
     ]
    }
   ],
   "source": [
    "%run C:\\Users\\User\\OneDrive\\Desktop\\CS50AI\\degrees\\degrees.py"
   ]
  },
  {
   "cell_type": "code",
   "execution_count": 269,
   "id": "0a4c6820",
   "metadata": {},
   "outputs": [
    {
     "name": "stdout",
     "output_type": "stream",
     "text": [
      "Loading data...\n",
      "Data loaded.\n",
      "Name: Tom Cruise\n",
      "Name: Chris Sarandon\n",
      "2 degrees of separation.\n",
      "1: Tom Cruise and Tim Curry starred in Legend\n",
      "2: Tim Curry and Chris Sarandon starred in The Chosen One\n"
     ]
    }
   ],
   "source": [
    "%run C:\\Users\\User\\OneDrive\\Desktop\\CS50AI\\degrees\\degrees.py"
   ]
  },
  {
   "cell_type": "markdown",
   "id": "fd999936",
   "metadata": {},
   "source": [
    "# Another Solution"
   ]
  },
  {
   "cell_type": "code",
   "execution_count": 263,
   "id": "e8f4bf8b",
   "metadata": {},
   "outputs": [],
   "source": [
    "def shortest_path(source, target):\n",
    "    \"\"\"\n",
    "    Returns the shortest list of (movie_id, person_id) pairs\n",
    "    that connect the source to the target.\n",
    "    If no possible path, returns None.\n",
    "    \"\"\"\n",
    " \n",
    "    explored = set([])\n",
    "    frontier = [source]\n",
    "    parents = {}\n",
    "    while len(frontier) > 0:\n",
    "        person = frontier.pop(0)\n",
    "        if person == target:\n",
    "            break\n",
    "        explored.add(person)\n",
    "        for (m, p) in neighbors_for_person(person):\n",
    "            if not p in frontier and not p in explored:\n",
    "                frontier.append(p)\n",
    "                parents[p] = (m, person)\n",
    "    if not target in parents:\n",
    "        return None\n",
    "    path = []\n",
    "    person = target\n",
    "    while person != source:\n",
    "        m, p = parents[person]\n",
    "        path.append((m, person))\n",
    "        person = p\n",
    "    path = path[::-1]\n",
    "    return path"
   ]
  },
  {
   "cell_type": "code",
   "execution_count": 264,
   "id": "1a98537e",
   "metadata": {},
   "outputs": [
    {
     "data": {
      "text/plain": [
       "[('104257', '129'), ('95953', '420')]"
      ]
     },
     "execution_count": 264,
     "metadata": {},
     "output_type": "execute_result"
    }
   ],
   "source": [
    "shortest_path('102','420')"
   ]
  },
  {
   "cell_type": "code",
   "execution_count": null,
   "id": "c5dec93a",
   "metadata": {},
   "outputs": [],
   "source": []
  }
 ],
 "metadata": {
  "kernelspec": {
   "display_name": "Python 3 (ipykernel)",
   "language": "python",
   "name": "python3"
  },
  "language_info": {
   "codemirror_mode": {
    "name": "ipython",
    "version": 3
   },
   "file_extension": ".py",
   "mimetype": "text/x-python",
   "name": "python",
   "nbconvert_exporter": "python",
   "pygments_lexer": "ipython3",
   "version": "3.8.10"
  }
 },
 "nbformat": 4,
 "nbformat_minor": 5
}
